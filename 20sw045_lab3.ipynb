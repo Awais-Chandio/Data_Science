{
  "nbformat": 4,
  "nbformat_minor": 0,
  "metadata": {
    "colab": {
      "provenance": [],
      "authorship_tag": "ABX9TyMMWR9mOERMCTK2zfzxbrM3",
      "include_colab_link": true
    },
    "kernelspec": {
      "name": "python3",
      "display_name": "Python 3"
    },
    "language_info": {
      "name": "python"
    }
  },
  "cells": [
    {
      "cell_type": "markdown",
      "metadata": {
        "id": "view-in-github",
        "colab_type": "text"
      },
      "source": [
        "<a href=\"https://colab.research.google.com/github/Awais-Chandio/Data_Science/blob/main/20sw045_lab3.ipynb\" target=\"_parent\"><img src=\"https://colab.research.google.com/assets/colab-badge.svg\" alt=\"Open In Colab\"/></a>"
      ]
    },
    {
      "cell_type": "code",
      "execution_count": 1,
      "metadata": {
        "colab": {
          "base_uri": "https://localhost:8080/"
        },
        "id": "nZajliYuulJh",
        "outputId": "69bed6e2-7af0-4e6a-9200-05ed9f7039dc"
      },
      "outputs": [
        {
          "output_type": "stream",
          "name": "stdout",
          "text": [
            "Test Case 1: Population Density = 20.0 people per square kilometer\n",
            "Test Case 2: Population Density = 300.0 people per square kilometer\n"
          ]
        }
      ],
      "source": []
    },
    {
      "cell_type": "markdown",
      "source": [
        "Task#01"
      ],
      "metadata": {
        "id": "H4gBA_zyvHot"
      }
    },
    {
      "cell_type": "code",
      "source": [
        "def population_density(population, land_area):\n",
        "    if land_area == 0:\n",
        "        raise ValueError(\"Land area cannot be zero.\")\n",
        "\n",
        "    density = population / land_area\n",
        "    return density\n",
        "    # Test Case 1\n",
        "population_1 = 10000\n",
        "land_area_1 = 500  # square kilometers\n",
        "density_1 = population_density(population_1, land_area_1)\n",
        "print(\"Test Case 1: Population Density =\", density_1, \"people per square kilometer\")\n",
        "\n",
        "# Test Case 2\n",
        "population_2 = 750000\n",
        "land_area_2 = 2500  # square kilometers\n",
        "density_2 = population_density(population_2, land_area_2)\n",
        "print(\"Test Case 2: Population Density =\", density_2, \"people per square kilometer\")\n"
      ],
      "metadata": {
        "id": "YNWQkBmKvLuB"
      },
      "execution_count": null,
      "outputs": []
    },
    {
      "cell_type": "markdown",
      "source": [
        "Task#02"
      ],
      "metadata": {
        "id": "l2KCG0bcv4B8"
      }
    },
    {
      "cell_type": "code",
      "source": [
        "def readable_timedelta(days):\n",
        "    weeks = days // 7\n",
        "    remaining_days = days % 7\n",
        "    return f\"{weeks} week(s) and {remaining_days} day(s).\"\n",
        "    print(readable_timedelta(10))\n"
      ],
      "metadata": {
        "id": "GDRO-M4vv6zv"
      },
      "execution_count": 6,
      "outputs": []
    },
    {
      "cell_type": "markdown",
      "source": [
        "Task#03"
      ],
      "metadata": {
        "id": "2EhTED6-wj-F"
      }
    },
    {
      "cell_type": "code",
      "source": [
        "numbers = [[1, 2, 3], [4, 5, 6], [7, 8, 9]]\n",
        "\n",
        "# Using lambda function with map\n",
        "averages = list(map(lambda lst: sum(lst) / len(lst), numbers))\n",
        "\n",
        "print(averages)\n"
      ],
      "metadata": {
        "colab": {
          "base_uri": "https://localhost:8080/"
        },
        "id": "g-omqluFwoDw",
        "outputId": "df4d5c84-651f-4672-b2d0-0cee3015b36b"
      },
      "execution_count": 7,
      "outputs": [
        {
          "output_type": "stream",
          "name": "stdout",
          "text": [
            "[2.0, 5.0, 8.0]\n"
          ]
        }
      ]
    },
    {
      "cell_type": "markdown",
      "source": [
        "Task#04"
      ],
      "metadata": {
        "id": "oxYg3eA6w-U5"
      }
    },
    {
      "cell_type": "code",
      "source": [
        "cities = [\"New York\", \"Tokyo\", \"London\", \"Paris\", \"Sydney\"]\n",
        "\n",
        "# Using lambda function with filter\n",
        "short_cities = list(filter(lambda city: len(city) < 10, cities))\n",
        "\n",
        "print(short_cities)\n"
      ],
      "metadata": {
        "colab": {
          "base_uri": "https://localhost:8080/"
        },
        "id": "wR0HO-bGxAmR",
        "outputId": "fa82ae9d-3be9-43f3-8b25-c43584b1ee7b"
      },
      "execution_count": 8,
      "outputs": [
        {
          "output_type": "stream",
          "name": "stdout",
          "text": [
            "['New York', 'Tokyo', 'London', 'Paris', 'Sydney']\n"
          ]
        }
      ]
    },
    {
      "cell_type": "markdown",
      "source": [
        "Task#05"
      ],
      "metadata": {
        "id": "YAHuj7QBx8zE"
      }
    },
    {
      "cell_type": "code",
      "source": [
        "def generate_messages(names, assignments, grades):\n",
        "    if len(names) != len(assignments) or len(names) != len(grades):\n",
        "        print(\"Error: The number of names, missing assignment counts, and grades must be the same.\")\n",
        "        return\n",
        "\n",
        "    for name, assignment_count, grade in zip(names, assignments, grades):\n",
        "        potential_grade = grade + 2 * assignment_count\n",
        "\n",
        "        message = f\"Hi {name},\\n\" \\\n",
        "                  f\"This is a reminder that you have {assignment_count} assignments left to submit before you can graduate. \" \\\n",
        "                  f\"Your current grade is {grade} and can increase to {potential_grade} if you submit all assignments before the due date.\\n\"\n",
        "\n",
        "        print(message)\n",
        "\n",
        "\n",
        "# Get user input for names, missing assignment counts, and grades\n",
        "names_input = input(\"Enter a comma-separated list of student names: \")\n",
        "assignments_input = input(\"Enter a comma-separated list of missing assignment counts: \")\n",
        "grades_input = input(\"Enter a comma-separated list of student grades: \")\n",
        "\n",
        "# Convert the user input to lists\n",
        "names = names_input.split(\",\")\n",
        "assignments = list(map(int, assignments_input.split(\",\")))\n",
        "grades = list(map(int, grades_input.split(\",\")))\n",
        "\n",
        "# Call the function to generate messages for each student\n",
        "generate_messages(names, assignments, grades)\n"
      ],
      "metadata": {
        "colab": {
          "base_uri": "https://localhost:8080/",
          "height": 287
        },
        "id": "Vijv-l3ZyNy5",
        "outputId": "31359069-dcbe-4526-97dc-f0febf78cf8f"
      },
      "execution_count": 10,
      "outputs": [
        {
          "name": "stdout",
          "output_type": "stream",
          "text": [
            "Enter a comma-separated list of student names: niaz,awais,asad,hassan\n",
            "Enter a comma-separated list of missing assignment counts: 4,6,7,8,8\n",
            "Enter a comma-separated list of student grades: A,B,C,A+\n"
          ]
        },
        {
          "output_type": "error",
          "ename": "ValueError",
          "evalue": "ignored",
          "traceback": [
            "\u001b[0;31m---------------------------------------------------------------------------\u001b[0m",
            "\u001b[0;31mValueError\u001b[0m                                Traceback (most recent call last)",
            "\u001b[0;32m<ipython-input-10-ee65321988fe>\u001b[0m in \u001b[0;36m<cell line: 24>\u001b[0;34m()\u001b[0m\n\u001b[1;32m     22\u001b[0m \u001b[0mnames\u001b[0m \u001b[0;34m=\u001b[0m \u001b[0mnames_input\u001b[0m\u001b[0;34m.\u001b[0m\u001b[0msplit\u001b[0m\u001b[0;34m(\u001b[0m\u001b[0;34m\",\"\u001b[0m\u001b[0;34m)\u001b[0m\u001b[0;34m\u001b[0m\u001b[0;34m\u001b[0m\u001b[0m\n\u001b[1;32m     23\u001b[0m \u001b[0massignments\u001b[0m \u001b[0;34m=\u001b[0m \u001b[0mlist\u001b[0m\u001b[0;34m(\u001b[0m\u001b[0mmap\u001b[0m\u001b[0;34m(\u001b[0m\u001b[0mint\u001b[0m\u001b[0;34m,\u001b[0m \u001b[0massignments_input\u001b[0m\u001b[0;34m.\u001b[0m\u001b[0msplit\u001b[0m\u001b[0;34m(\u001b[0m\u001b[0;34m\",\"\u001b[0m\u001b[0;34m)\u001b[0m\u001b[0;34m)\u001b[0m\u001b[0;34m)\u001b[0m\u001b[0;34m\u001b[0m\u001b[0;34m\u001b[0m\u001b[0m\n\u001b[0;32m---> 24\u001b[0;31m \u001b[0mgrades\u001b[0m \u001b[0;34m=\u001b[0m \u001b[0mlist\u001b[0m\u001b[0;34m(\u001b[0m\u001b[0mmap\u001b[0m\u001b[0;34m(\u001b[0m\u001b[0mint\u001b[0m\u001b[0;34m,\u001b[0m \u001b[0mgrades_input\u001b[0m\u001b[0;34m.\u001b[0m\u001b[0msplit\u001b[0m\u001b[0;34m(\u001b[0m\u001b[0;34m\",\"\u001b[0m\u001b[0;34m)\u001b[0m\u001b[0;34m)\u001b[0m\u001b[0;34m)\u001b[0m\u001b[0;34m\u001b[0m\u001b[0;34m\u001b[0m\u001b[0m\n\u001b[0m\u001b[1;32m     25\u001b[0m \u001b[0;34m\u001b[0m\u001b[0m\n\u001b[1;32m     26\u001b[0m \u001b[0;31m# Call the function to generate messages for each student\u001b[0m\u001b[0;34m\u001b[0m\u001b[0;34m\u001b[0m\u001b[0m\n",
            "\u001b[0;31mValueError\u001b[0m: invalid literal for int() with base 10: 'A'"
          ]
        }
      ]
    }
  ]
}