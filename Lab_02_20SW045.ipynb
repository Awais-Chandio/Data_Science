{
  "nbformat": 4,
  "nbformat_minor": 0,
  "metadata": {
    "colab": {
      "provenance": [],
      "authorship_tag": "ABX9TyNzo2SkRgBAcmAMXVSc+KH2",
      "include_colab_link": true
    },
    "kernelspec": {
      "name": "python3",
      "display_name": "Python 3"
    },
    "language_info": {
      "name": "python"
    }
  },
  "cells": [
    {
      "cell_type": "markdown",
      "metadata": {
        "id": "view-in-github",
        "colab_type": "text"
      },
      "source": [
        "<a href=\"https://colab.research.google.com/github/Awais-Chandio/Data_Science/blob/main/Lab_02_20SW045.ipynb\" target=\"_parent\"><img src=\"https://colab.research.google.com/assets/colab-badge.svg\" alt=\"Open In Colab\"/></a>"
      ]
    },
    {
      "cell_type": "markdown",
      "source": [
        "Lab No 02: Control flow in python\n",
        "\n",
        "Roll No : 20SW045\n",
        "\n",
        "Section 1\n",
        "\n",
        "Task#01\n",
        "\n"
      ],
      "metadata": {
        "id": "fH3monPbqfXg"
      }
    },
    {
      "cell_type": "code",
      "source": [
        "point = int(input(\"enter the points your have achieved : \"))\n",
        "\n",
        "result = \"\"\n",
        "\n",
        "if point >= 1 and point <= 50:\n",
        "   result = \"wooden rabbit\"\n",
        "   print(\"congratulations you have won : \"+ result)\n",
        "elif point >= 51 and point <= 150:\n",
        "   result = \"no pirze\"\n",
        "   print(\"congratulations you have won : \"+ result)\n",
        "elif point >= 151 and point <= 180:\n",
        "   result = \"water thin mint\"\n",
        "   print(\"congratulations you have won : \"+ result)\n",
        "elif point >= 180 and point <= 200:\n",
        "  result = \"penguin\"\n",
        "  print(\"congratulations you have won : \"+ result)\n",
        "else :\n",
        "  print(\"no prize this time\")"
      ],
      "metadata": {
        "colab": {
          "base_uri": "https://localhost:8080/"
        },
        "id": "4-KmZ8SCrC2o",
        "outputId": "0e4355a2-1031-42ce-e866-23d94c7348c2"
      },
      "execution_count": 1,
      "outputs": [
        {
          "output_type": "stream",
          "name": "stdout",
          "text": [
            "enter the points your have achieved : 150\n",
            "congratulations you have won : no pirze\n"
          ]
        }
      ]
    },
    {
      "cell_type": "markdown",
      "source": [
        "Task#02"
      ],
      "metadata": {
        "id": "BCUJ930-rPQD"
      }
    },
    {
      "cell_type": "code",
      "source": [
        "guess = int(input(\"guess the number which is hidden : \"))\n",
        "\n",
        "answer = 15\n",
        "\n",
        "if guess >= 1 and guess <=5:\n",
        " result = \"guess is too low\"\n",
        " print(\"your guess \"+ result)\n",
        "elif guess >= 5 and guess <= 10:\n",
        "  result = \" it is close but still low\"\n",
        "  print(\"your guess \"+ result)\n",
        "elif guess >= 10 and guess <= 15:\n",
        "   result = \"good you have guess right\"\n",
        "   print(\"your guess \"+ result)\n",
        "elif guess >= 20 :\n",
        "   result = \"too hight\"\n",
        "   print(\"your guess \"+ result)\n",
        "else :\n",
        " print(\"invalid input\")"
      ],
      "metadata": {
        "colab": {
          "base_uri": "https://localhost:8080/"
        },
        "id": "bMeykPcvrTYF",
        "outputId": "92b51c04-780c-462c-f120-fef85a3c91e2"
      },
      "execution_count": 2,
      "outputs": [
        {
          "output_type": "stream",
          "name": "stdout",
          "text": [
            "guess the number which is hidden : 7\n",
            "your guess  it is close but still low\n"
          ]
        }
      ]
    },
    {
      "cell_type": "markdown",
      "source": [
        "Task#03"
      ],
      "metadata": {
        "id": "1zwRpj4krlPZ"
      }
    },
    {
      "cell_type": "code",
      "source": [
        "from IPython.core.formatters import StringIO\n",
        "amount = int(input(\"enter the purchase amount : \"))\n",
        "state = str(input(\"enter the state name like ( CA, MN, NY) : \"))\n",
        "\n",
        "tax = 0.0\n",
        "\n",
        "if state == \"CA\":\n",
        " tax = amount * 0.075\n",
        " print(\"the tax charge is  \"+ str(tax))\n",
        "elif state == \"MN\":\n",
        "   tax = amount * 0.095\n",
        "   print(\"the tax charge is  \"+ str(tax))\n",
        "\n",
        "elif state == \"NY\":\n",
        "\n",
        "    tax = amount * 0.089\n",
        "    print(\"the tax charge is  \"+ str(tax))\n",
        "else :\n",
        " print(\"invalid input\")"
      ],
      "metadata": {
        "colab": {
          "base_uri": "https://localhost:8080/"
        },
        "id": "WaoLyk9EroA7",
        "outputId": "6957b665-1b56-424e-b58f-b42b62af32fa"
      },
      "execution_count": 3,
      "outputs": [
        {
          "output_type": "stream",
          "name": "stdout",
          "text": [
            "enter the purchase amount : 150\n",
            "enter the state name like ( CA, MN, NY) : CA\n",
            "the tax charge is  11.25\n"
          ]
        }
      ]
    },
    {
      "cell_type": "markdown",
      "source": [
        "Task#04"
      ],
      "metadata": {
        "id": "IQSkWbMDr50T"
      }
    },
    {
      "cell_type": "code",
      "source": [
        "sentence = [\"the\", \"quick\", \"brown\", \"fox\", \"jumped\", \"over\", \"the\", \"lazy\", \"dog\"]\n",
        "\n",
        "for i in sentence:\n",
        "\n",
        "  print(i)"
      ],
      "metadata": {
        "colab": {
          "base_uri": "https://localhost:8080/"
        },
        "id": "8v0RdCpur8oE",
        "outputId": "945fa1fb-fbae-4fbf-f4e7-2b16d8f5411c"
      },
      "execution_count": 4,
      "outputs": [
        {
          "output_type": "stream",
          "name": "stdout",
          "text": [
            "the\n",
            "quick\n",
            "brown\n",
            "fox\n",
            "jumped\n",
            "over\n",
            "the\n",
            "lazy\n",
            "dog\n"
          ]
        }
      ]
    },
    {
      "cell_type": "markdown",
      "source": [
        "Task#05"
      ],
      "metadata": {
        "id": "dueK0p4lsJxf"
      }
    },
    {
      "cell_type": "code",
      "source": [
        "for num in range(5, 31, 5):\n",
        "    print(num)"
      ],
      "metadata": {
        "colab": {
          "base_uri": "https://localhost:8080/"
        },
        "id": "cxNtKrDjsO1l",
        "outputId": "911b0213-52f2-4fa5-fee9-04f3b586a175"
      },
      "execution_count": 5,
      "outputs": [
        {
          "output_type": "stream",
          "name": "stdout",
          "text": [
            "5\n",
            "10\n",
            "15\n",
            "20\n",
            "25\n",
            "30\n"
          ]
        }
      ]
    },
    {
      "cell_type": "markdown",
      "source": [
        "Task#06"
      ],
      "metadata": {
        "id": "JCfzx15esVEL"
      }
    },
    {
      "cell_type": "code",
      "source": [
        "names = [\"Farhan ali\", \"Asad ali\", \"Hassan ali\", \"Zohaib ali\"]\n",
        "\n",
        "# Using list comprehension to extract first names in lowercase\n",
        "first_names = [name.split()[0].lower() for name in names]\n",
        "print(first_names)"
      ],
      "metadata": {
        "colab": {
          "base_uri": "https://localhost:8080/"
        },
        "id": "UqVxa6lUsYF4",
        "outputId": "7369240a-8c3c-4c22-d89f-40bcc33fae74"
      },
      "execution_count": 6,
      "outputs": [
        {
          "output_type": "stream",
          "name": "stdout",
          "text": [
            "['farhan', 'asad', 'hassan', 'zohaib']\n"
          ]
        }
      ]
    },
    {
      "cell_type": "markdown",
      "source": [
        "Task#07"
      ],
      "metadata": {
        "id": "UnQ4fLpasrtD"
      }
    },
    {
      "cell_type": "code",
      "source": [
        "first_names = [i**3 for i in range(1,20)]\n",
        "\n",
        "print(first_names)"
      ],
      "metadata": {
        "colab": {
          "base_uri": "https://localhost:8080/"
        },
        "id": "SHFQEV-Rsv0B",
        "outputId": "bcd9da99-7c37-407f-8ea0-61f7d6669d1e"
      },
      "execution_count": 7,
      "outputs": [
        {
          "output_type": "stream",
          "name": "stdout",
          "text": [
            "[1, 8, 27, 64, 125, 216, 343, 512, 729, 1000, 1331, 1728, 2197, 2744, 3375, 4096, 4913, 5832, 6859]\n"
          ]
        }
      ]
    },
    {
      "cell_type": "markdown",
      "source": [
        "Task#08"
      ],
      "metadata": {
        "id": "ZKiKq3tds3EX"
      }
    },
    {
      "cell_type": "code",
      "source": [
        "scores = {\"Farhan Ali\": 70, \"Asad Ali\": 75, \"Hassan Ali\": 82, \"Awais chandio\": 83, \"Zohaib Ali\": 98}\n",
        "\n",
        "# List comprehension to get names with scores >= 65\n",
        "passed_names = [name for name, score in scores.items() if score >= 65]\n",
        "\n",
        "print(passed_names)"
      ],
      "metadata": {
        "colab": {
          "base_uri": "https://localhost:8080/"
        },
        "id": "MdK1jiyPs9Iw",
        "outputId": "5e72de65-1e71-400f-9fc3-06294d5f9113"
      },
      "execution_count": 8,
      "outputs": [
        {
          "output_type": "stream",
          "name": "stdout",
          "text": [
            "['Farhan Ali', 'Asad Ali', 'Hassan Ali', 'Awais chandio', 'Zohaib Ali']\n"
          ]
        }
      ]
    },
    {
      "cell_type": "markdown",
      "source": [
        "Task#09"
      ],
      "metadata": {
        "id": "XhtTOvQatFjl"
      }
    },
    {
      "cell_type": "code",
      "source": [
        "cast_names = [\"Barney\", \"Robin\", \"Ted\", \"Lily\", \"Marshall\"]\n",
        "cast_heights = [72, 68, 72, 66, 76]\n",
        "\n",
        "cast = dict(zip(cast_names, cast_heights))\n",
        "\n",
        "print(cast)"
      ],
      "metadata": {
        "colab": {
          "base_uri": "https://localhost:8080/"
        },
        "id": "9acDWW78tIxm",
        "outputId": "ae9344cf-c906-43d5-e1c8-effeefeee9c3"
      },
      "execution_count": 9,
      "outputs": [
        {
          "output_type": "stream",
          "name": "stdout",
          "text": [
            "{'Barney': 72, 'Robin': 68, 'Ted': 72, 'Lily': 66, 'Marshall': 76}\n"
          ]
        }
      ]
    },
    {
      "cell_type": "markdown",
      "source": [
        "Task#10"
      ],
      "metadata": {
        "id": "69oh77pRtSzt"
      }
    },
    {
      "cell_type": "code",
      "source": [
        "cast = [\"Barney Stinson\", \"Robin Scherbatsky\", \"Ted Mosby\", \"Lily Aldrin\", \"Marshall Eriksen\"]\n",
        "heights = [72, 68, 72, 66, 76]\n",
        "\n",
        "# Modify the cast list using enumerate() and a for loop\n",
        "for index, name in enumerate(cast):\n",
        "    cast[index] = name + str(heights[index])\n",
        "\n",
        "print(cast)"
      ],
      "metadata": {
        "colab": {
          "base_uri": "https://localhost:8080/"
        },
        "id": "Ib5IQfcUtWAz",
        "outputId": "9c4aead6-d1c5-4a0f-a325-fc999ed1bae8"
      },
      "execution_count": 10,
      "outputs": [
        {
          "output_type": "stream",
          "name": "stdout",
          "text": [
            "['Barney Stinson72', 'Robin Scherbatsky68', 'Ted Mosby72', 'Lily Aldrin66', 'Marshall Eriksen76']\n"
          ]
        }
      ]
    }
  ]
}